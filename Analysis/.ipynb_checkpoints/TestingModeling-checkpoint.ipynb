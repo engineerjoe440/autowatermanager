{
 "cells": [
  {
   "cell_type": "markdown",
   "metadata": {},
   "source": [
    "# Joe Stanley\n",
    "### Stanley Solutions\n",
    "Testing and modeling environment for water heating/cooling model.\n",
    "\n",
    "References:\n",
    "- http://jwilson.coe.uga.edu/EMAT6680Fa07/Lowe/Assignment%2012/CoolingWater.html\n",
    "- https://sciencing.com/calculate-time-heat-water-8028611.html"
   ]
  },
  {
   "cell_type": "code",
   "execution_count": 1,
   "metadata": {},
   "outputs": [],
   "source": [
    "# Import Libraries\n",
    "import numpy as np\n",
    "import matplotlib.pyplot as plt\n",
    "from scipy.constants import convert_temperature as conv_temp\n",
    "\n",
    "# Define System Parameters\n",
    "k = 0.01457 # From Web, not Terribly Accurate\n",
    "g = 10 # Gallons in Container\n",
    "P = 500\n",
    "\n",
    "###### ALL TIME IS MEASURED IN MINUTES #####"
   ]
  },
  {
   "cell_type": "code",
   "execution_count": 2,
   "metadata": {},
   "outputs": [],
   "source": [
    "# Define Modeling Functions\n",
    "def gallons(liters):\n",
    "    gal = liters/3.78541\n",
    "    return(gal)\n",
    "def liters(gallons):\n",
    "    lit = gallons*3.78541\n",
    "    return(lit)\n",
    "\n",
    "def newtoncooling(t,temp0,tempenv):\n",
    "    temp = tempenv + (temp0-tempenv)*np.exp(-k*t)\n",
    "    return(temp)\n",
    "\n",
    "def heating(t,Power,temp0):\n",
    "    temp0 = conv_temp(temp0,'f','c')\n",
    "    Pkw = Power/1000\n",
    "    temp = temp0 + (60*Pkw*t)/(4.2*liters(g))\n",
    "    print(temp0,Pkw,liters(g))\n",
    "    temp = conv_temp(temp,'c','f')\n",
    "    return(temp)\n",
    "\n",
    "def combined(t,Power,temp0,tempenv):\n",
    "    cool = newtoncooling(t,temp0,tempenv)\n",
    "    heat = heating(t,Power,temp0) - temp0\n",
    "    return(cool+heat)"
   ]
  },
  {
   "cell_type": "code",
   "execution_count": 3,
   "metadata": {},
   "outputs": [
    {
     "name": "stdout",
     "output_type": "stream",
     "text": [
      "1.6666666666666856 0.5 37.8541\n",
      "1.6666666666666856 0.5 37.8541\n"
     ]
    },
    {
     "data": {
      "image/png": "[encoded data removed]",
      "text/plain": [
       "<Figure size 432x288 with 1 Axes>"
      ]
     },
     "metadata": {
      "needs_background": "light"
     },
     "output_type": "display_data"
    }
   ],
   "source": [
    "# Model SIMPLE Systems, Nothing Advanced\n",
    "t_hr = np.linspace(0,60,600)\n",
    "t0 = 35\n",
    "te = 20\n",
    "cool = newtoncooling(t_hr,t0,te)\n",
    "heat = heating(t_hr,P,t0)\n",
    "sys = combined(t_hr,P,t0,te)\n",
    "plt.plot(t_hr, cool, label='cooling')\n",
    "plt.plot(t_hr, heat, label='heating')\n",
    "plt.plot(t_hr, sys, label='combined')\n",
    "plt.xlabel(\"Time (minutes)\")\n",
    "plt.ylabel(\"Temperature (°F)\")\n",
    "plt.legend()\n",
    "plt.show()"
   ]
  },
  {
   "cell_type": "markdown",
   "metadata": {},
   "source": [
    "## First model was not accurate...\n",
    "It did not appropriately account for time."
   ]
  },
  {
   "cell_type": "code",
   "execution_count": 4,
   "metadata": {},
   "outputs": [],
   "source": [
    "# Define Avista Billing Rates\n",
    "ratelt600 = 0.08458 # $/kwh\n",
    "rategt600 = 0.09521 # $/kwh"
   ]
  },
  {
   "cell_type": "code",
   "execution_count": 27,
   "metadata": {},
   "outputs": [],
   "source": [
    "# Define New Temperature Model\n",
    "class troughmodel():\n",
    "    def __init__(self,temp0,Pwatts,volume,k,threshold=45,freezing_threshold=33):\n",
    "        # Define Simple Heater\n",
    "        self._t0 = temp0\n",
    "        self._Pkw = Pwatts/1000\n",
    "        self._k = k\n",
    "        self._temp = [temp0]\n",
    "        self._heater_en = [False]\n",
    "        self._threshold = threshold\n",
    "        self._volume = volume\n",
    "        self._index = 0\n",
    "        self._tactv = freezing_threshold # Frezing, Activate Point\n",
    "    \n",
    "    def update(self,ambient,EN=True,k=None):\n",
    "        # Temperature over Time Method, Models Heater and Cooling Params\n",
    "        if k != None:\n",
    "            self._k = k\n",
    "        temp = self._temp[self._index]\n",
    "        # Determine Temperature Change from Both Heating and Cooling\n",
    "        newTemp = ambient + (temp-ambient)*np.exp(-self._k)\n",
    "        heatC = (temp-32)*5/9 + (60*self._Pkw)/(4.2*liters(self._volume))\n",
    "        heat = (heatC*9/5) + 32\n",
    "        # Convert Heating Effect back to Fahrenheit\n",
    "        dt_heat = heat-temp\n",
    "        # Determine whether Heater should be Applied\n",
    "        if temp >= self._threshold:\n",
    "            self._heater_en.append(False) # Don't Heat\n",
    "        elif EN and ((temp <= self._tactv) or self._heater_en[self._index-1]):\n",
    "            self._heater_en.append(True) # Apply Heater\n",
    "            newTemp += dt_heat\n",
    "        else:\n",
    "            self._heater_en.append(False) # Don't Heat\n",
    "        # Increment Index and Return New Temperature\n",
    "        self._index += 1\n",
    "        self._temp.append(newTemp)\n",
    "        return(newTemp)\n",
    "    \n",
    "    def min_maintain(self,temp_maint=None):\n",
    "        # Minimum Maintainable Temperature Method; Determines Minimum Ambient\n",
    "        # Temperature to Maintain (at least) the Maintenence Temperature\n",
    "        temp = self._tactv # Freezing Point\n",
    "        if temp_maint != None:\n",
    "            temp = temp_maint\n",
    "        # Iteratively Process Temperatures between -10 and 32\n",
    "        for ambient in range(-10,32):\n",
    "            # Determine Temperature Change from Both Heating and Cooling\n",
    "            dcool = temp - (ambient + (temp-ambient)*np.exp(-self._k))\n",
    "            heatC = (temp-32)*5/9 + (60*self._Pkw)/(4.2*liters(self._volume))\n",
    "            heat = (heatC*9/5) + 32\n",
    "            dheat = heat-temp\n",
    "            if dheat >= dcool:\n",
    "                mintemp = ambient\n",
    "                return(mintemp)\n",
    "    \n",
    "    def time_to_recover(self,ambient,temp_recovr=None,t0=None):\n",
    "        # Time to Recover Method; Determines the Time (in minutes) required\n",
    "        # to Heat the Modeled Trough from Ambient to the Recovery Threshold\n",
    "        time = 0\n",
    "        if t0 == None:\n",
    "            temp = ambient\n",
    "        else:\n",
    "            temp = t0\n",
    "        if temp_recovr == None:\n",
    "            temp_recovr = self._tactv\n",
    "        # Iteratively Process the Heating/Cooling Performance to Determine\n",
    "        # the Time Required; Return -1 if more than 24 Hours Required\n",
    "        while temp < temp_recovr:\n",
    "            heatC = (temp-32)*5/9 + (60*self._Pkw)/(4.2*liters(self._volume))\n",
    "            heat = (heatC*9/5) + 32\n",
    "            dt_heat = heat-temp\n",
    "            temp = ambient + (temp-ambient)*np.exp(-self._k) + dt_heat\n",
    "            time += 1\n",
    "            if time > 1440:\n",
    "                return(-1) # Return in Error\n",
    "        return(time)\n",
    "    \n",
    "    def rest_time(self,ambient,temp_restart=32,t0=None):\n",
    "        # Determine the Allowable Resting Time Before a Heater Restart is Required\n",
    "        time = 0\n",
    "        if t0 == None:\n",
    "            temp = self._temp[self._index]\n",
    "        else:\n",
    "            temp = t0\n",
    "        heaterstate = self._heater_en[-1]\n",
    "        if not heaterstate:\n",
    "            # Iteratively Calculate New Temperature and Count Time (in minutes)\n",
    "            # If Time is Greater than 24 Hours, Return -1\n",
    "            while temp > temp_restart:\n",
    "                # Determine Temperature Change from Both Heating and Cooling\n",
    "                newTemp = ambient + (temp-ambient)*np.exp(-self._k)\n",
    "                temp = newTemp\n",
    "                time += 1\n",
    "                if time > 1440:\n",
    "                    return(-1) # Indicate Greater than 24 Hours Cool\n",
    "        else:\n",
    "            return(-2) # Indicate Active Heater\n",
    "        return(time)\n",
    "    \n",
    "    def get_temp(self):\n",
    "        return(self._temp)\n",
    "    \n",
    "    def get_heater_state(self):\n",
    "        return(self._heater_en)\n",
    "    \n",
    "    def shrink_lists(self):\n",
    "        self._temp = self._temp[-2:]\n",
    "        self._heater_en = self._heater_en[-2:]"
   ]
  },
  {
   "cell_type": "code",
   "execution_count": 28,
   "metadata": {
    "scrolled": false
   },
   "outputs": [
    {
     "data": {
      "image/png": "[encoded data removed]",
      "text/plain": [
       "<Figure size 432x288 with 1 Axes>"
      ]
     },
     "metadata": {
      "needs_background": "light"
     },
     "output_type": "display_data"
    },
    {
     "name": "stdout",
     "output_type": "stream",
     "text": [
      "kWh Consumed (unregulated): 12.0\n",
      "kWh Consumed (regulated): 7.225\n",
      "kWh Consumed (tightly regulated) 6.775\n",
      "Improvement: 39.79166666666667 %\n",
      "Tight Improvement: 43.541666666666664 %\n",
      "Minimum Ambient Temperature: 10 °F\n",
      "Time To Recover from 15°F: 100 minutes\n"
     ]
    }
   ],
   "source": [
    "# Demonstrate Model in Simple System\n",
    "t0 = 25\n",
    "t_amb = 20\n",
    "\n",
    "model = troughmodel(t0,P,g,k,threshold=45)\n",
    "mod_1 = troughmodel(t0,P,g,k,threshold=35)\n",
    "mod_2 = troughmodel(t0,P,g,k,threshold=33)\n",
    "\n",
    "# Process twenty-four hours\n",
    "minutes = 60*24\n",
    "for _ in range(minutes):\n",
    "    # Update the Model Instances\n",
    "    model.update(t_amb)\n",
    "    mod_1.update(t_amb)\n",
    "    mod_2.update(t_amb)\n",
    "    # Evaluate the Rest Time\n",
    "    mod_1_rest = mod_1.rest_time(t_amb)\n",
    "    mod_2_rest = mod_2.rest_time(t_amb)\n",
    "    #if (mod_1_rest > 0) and (mod_2_rest > 0):\n",
    "    #    print(\"Model 1:\",mod_1_rest,\"\\t\\tModel 2:\",mod_2_rest)\n",
    "\n",
    "# Display Results\n",
    "plt.plot(model.get_temp(),label='water temp - unreg')\n",
    "plt.plot(mod_1.get_temp(),label='water temp - regul')\n",
    "plt.plot(mod_2.get_temp(),label='water temp - tight regul')\n",
    "#plt.plot(model.get_heater_state(),label='heater state')\n",
    "plt.xlabel(\"Time (minutes)\")\n",
    "plt.ylabel(\"Temperature (°F)\")\n",
    "plt.legend()\n",
    "plt.show()\n",
    "\n",
    "rate = sum(model.get_heater_state())/60\n",
    "rate1 = sum(mod_1.get_heater_state())/60\n",
    "rate2 = sum(mod_2.get_heater_state())/60\n",
    "consump = (P/1000) * rate\n",
    "consump1 = (P/1000) * rate1\n",
    "consump2 = (P/1000) * rate2\n",
    "print(\"kWh Consumed (unregulated):\",consump)\n",
    "print(\"kWh Consumed (regulated):\",consump1)\n",
    "print(\"kWh Consumed (tightly regulated)\",consump2)\n",
    "print(\"Improvement:\",(consump-consump1)/consump*100,\"%\")\n",
    "print(\"Tight Improvement:\",(consump-consump2)/consump*100,\"%\")\n",
    "print(\"Minimum Ambient Temperature:\",model.min_maintain(),\"°F\")\n",
    "print(\"Time To Recover from 15°F:\",model.time_to_recover(15),\"minutes\")"
   ]
  },
  {
   "cell_type": "markdown",
   "metadata": {},
   "source": [
    "## Start Modeling the Dispatching Sequence\n",
    "\n",
    "Great! Now we've seen that immense amounts of efficiency can be gained by using a model to more accurately control the water heaters. We've also developed some nice methods of determining the time.\n",
    "\n",
    "Now we need to develop appropriate methods to dispatch the heaters.\n",
    "\n",
    "First, we need to find a way of determining how many separate heater groups can be controlled in a period of time. Ultimately, this is determined by the relationship between the amount of time that it takes for a heater to return from freezing to the threshold, and the amount of time required to cool from the threshold to freezing.\n",
    "\n",
    "If the time required to heat is greater than the time required to cool, there are no effective ways of scheduling heat cycles. When this is true, all heaters must be enabled and controlled by their respective models, heating and cooling as appropriate.\n",
    "\n",
    "On the contrary, when the time to heat is less than the time to cool, some number of scheduling operations may be completed. This means that some number of heaters can be enabled while others are disabled. As the temperature rises, the number of scheduling periods may also rise. When the number of scheduling periods is zero, all heaters are controlled by their models. When the number of scheduling periods is one, two groups of heaters will be maintained. When the number is two, three groups of heaters will be maintained."
   ]
  },
  {
   "cell_type": "code",
   "execution_count": 40,
   "metadata": {},
   "outputs": [
    {
     "name": "stdout",
     "output_type": "stream",
     "text": [
      "Recovery Time: 12 minutes\n",
      "Rest Time: 39 minutes\n",
      "3.0\n"
     ]
    },
    {
     "data": {
      "image/png": "[encoded data removed]",
      "text/plain": [
       "<Figure size 432x288 with 1 Axes>"
      ]
     },
     "metadata": {
      "needs_background": "light"
     },
     "output_type": "display_data"
    },
    {
     "data": {
      "image/png": "[encoded data removed]",
      "text/plain": [
       "<Figure size 432x288 with 1 Axes>"
      ]
     },
     "metadata": {
      "needs_background": "light"
     },
     "output_type": "display_data"
    }
   ],
   "source": [
    "# Model Some Simple Dispatching Considerations\n",
    "t0 = 32\n",
    "t_amb = 28\n",
    "threshold = 35\n",
    "\n",
    "dispatchmodel = troughmodel(t0,P,g,k,threshold=threshold)\n",
    "\n",
    "# Evaluate Sample Time to Recover\n",
    "recoverytime = dispatchmodel.time_to_recover(t_amb,temp_recovr=threshold,t0=t0)\n",
    "resttime = dispatchmodel.rest_time(t_amb,temp_restart=32,t0=threshold)\n",
    "\n",
    "print(\"Recovery Time:\",recoverytime,\"minutes\")\n",
    "print(\"Rest Time:\",resttime,\"minutes\")\n",
    "print(np.floor(resttime/recoverytime))\n",
    "\n",
    "# Now, let's sweep the ambient temperature to review the performance\n",
    "ambient = np.linspace(15,31.9,100)\n",
    "\n",
    "recovery = []\n",
    "rest = []\n",
    "n_set = []\n",
    "for amb in ambient:\n",
    "    # Evaluate Components\n",
    "    recoverytime = dispatchmodel.time_to_recover(amb,temp_recovr=threshold,t0=t0)\n",
    "    resttime = dispatchmodel.rest_time(amb,temp_restart=32,t0=threshold)\n",
    "    # Store Data Points in Lists\n",
    "    recovery.append( recoverytime )\n",
    "    rest.append( resttime )\n",
    "    # Evaluate the Number of Device Cycles per Rest Cycle\n",
    "    cyc = np.floor(resttime/recoverytime)\n",
    "    if cyc >= 0:\n",
    "        n_set.append(cyc)\n",
    "    else:\n",
    "        n_set.append(0)\n",
    "\n",
    "plt.plot(ambient,recovery,label='recovery time')\n",
    "plt.plot(ambient,rest,label='rest time')\n",
    "plt.legend()\n",
    "plt.xlabel('Ambient Temperature (°F)')\n",
    "plt.ylabel('Time (minutes)')\n",
    "plt.show()\n",
    "\n",
    "plt.plot(ambient,n_set,label='number of op cycles')\n",
    "plt.xlabel('Ambient Temperature (°F)')\n",
    "plt.ylabel('Number of Schedule Periods')\n",
    "plt.legend()\n",
    "plt.show()"
   ]
  },
  {
   "cell_type": "code",
   "execution_count": null,
   "metadata": {},
   "outputs": [],
   "source": []
  }
 ],
 "metadata": {
  "kernelspec": {
   "display_name": "Python 3",
   "language": "python",
   "name": "python3"
  },
  "language_info": {
   "codemirror_mode": {
    "name": "ipython",
    "version": 3
   },
   "file_extension": ".py",
   "mimetype": "text/x-python",
   "name": "python",
   "nbconvert_exporter": "python",
   "pygments_lexer": "ipython3",
   "version": "3.7.4"
  }
 },
 "nbformat": 4,
 "nbformat_minor": 2
}
