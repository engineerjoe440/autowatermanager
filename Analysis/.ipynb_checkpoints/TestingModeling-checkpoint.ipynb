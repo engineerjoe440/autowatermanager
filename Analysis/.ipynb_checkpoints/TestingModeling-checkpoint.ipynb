{
 "cells": [
  {
   "cell_type": "markdown",
   "metadata": {},
   "source": [
    "# Joe Stanley\n",
    "### Stanley Solutions\n",
    "Testing and modeling environment for water heating/cooling model.\n",
    "\n",
    "References:\n",
    "- http://jwilson.coe.uga.edu/EMAT6680Fa07/Lowe/Assignment%2012/CoolingWater.html\n",
    "- https://sciencing.com/calculate-time-heat-water-8028611.html"
   ]
  },
  {
   "cell_type": "code",
   "execution_count": 1,
   "metadata": {},
   "outputs": [],
   "source": [
    "# Import Libraries\n",
    "import numpy as np\n",
    "import matplotlib.pyplot as plt\n",
    "from scipy.constants import convert_temperature as conv_temp\n",
    "\n",
    "# Define System Parameters\n",
    "k = 0.01457 # From Web, not Terribly Accurate\n",
    "g = 10 # Gallons in Container\n",
    "P = 500\n",
    "\n",
    "###### ALL TIME IS MEASURED IN MINUTES #####"
   ]
  },
  {
   "cell_type": "code",
   "execution_count": 2,
   "metadata": {},
   "outputs": [],
   "source": [
    "# Define Modeling Functions\n",
    "def gallons(liters):\n",
    "    gal = liters/3.78541\n",
    "    return(gal)\n",
    "def liters(gallons):\n",
    "    lit = gallons*3.78541\n",
    "    return(lit)\n",
    "\n",
    "def newtoncooling(t,temp0,tempenv):\n",
    "    temp = tempenv + (temp0-tempenv)*np.exp(-k*t)\n",
    "    return(temp)\n",
    "\n",
    "def heating(t,Power,temp0):\n",
    "    temp0 = conv_temp(temp0,'f','c')\n",
    "    Pkw = Power/1000\n",
    "    temp = temp0 + (60*Pkw*t)/(4.2*liters(g))\n",
    "    print(temp0,Pkw,liters(g))\n",
    "    temp = conv_temp(temp,'c','f')\n",
    "    return(temp)\n",
    "\n",
    "def combined(t,Power,temp0,tempenv):\n",
    "    cool = newtoncooling(t,temp0,tempenv)\n",
    "    heat = heating(t,Power,temp0) - temp0\n",
    "    return(cool+heat)"
   ]
  },
  {
   "cell_type": "code",
   "execution_count": 3,
   "metadata": {},
   "outputs": [
    {
     "name": "stdout",
     "output_type": "stream",
     "text": [
      "1.6666666666666856 0.5 37.8541\n",
      "1.6666666666666856 0.5 37.8541\n"
     ]
    },
    {
     "data": {
      "image/png": "[encoded data removed]",
      "text/plain": [
       "<Figure size 432x288 with 1 Axes>"
      ]
     },
     "metadata": {
      "needs_background": "light"
     },
     "output_type": "display_data"
    }
   ],
   "source": [
    "# Model SIMPLE Systems, Nothing Advanced\n",
    "t_hr = np.linspace(0,60,600)\n",
    "t0 = 35\n",
    "te = 20\n",
    "cool = newtoncooling(t_hr,t0,te)\n",
    "heat = heating(t_hr,P,t0)\n",
    "sys = combined(t_hr,P,t0,te)\n",
    "plt.plot(t_hr, cool, label='cooling')\n",
    "plt.plot(t_hr, heat, label='heating')\n",
    "plt.plot(t_hr, sys, label='combined')\n",
    "plt.xlabel(\"Time (minutes)\")\n",
    "plt.ylabel(\"Temperature (°F)\")\n",
    "plt.legend()\n",
    "plt.show()"
   ]
  },
  {
   "cell_type": "markdown",
   "metadata": {},
   "source": [
    "## First model was not accurate...\n",
    "It did not appropriately account for time."
   ]
  },
  {
   "cell_type": "code",
   "execution_count": 4,
   "metadata": {},
   "outputs": [],
   "source": [
    "# Define Avista Billing Rates\n",
    "ratelt600 = 0.08458 # $/kwh\n",
    "rategt600 = 0.09521 # $/kwh"
   ]
  },
  {
   "cell_type": "code",
   "execution_count": 50,
   "metadata": {},
   "outputs": [],
   "source": [
    "# Define New Temperature Model\n",
    "class troughmodel():\n",
    "    def __init__(self,temp0,Pwatts,volume,k,threshold=45,freezing_threshold=33):\n",
    "        # Define Simple Heater\n",
    "        self._t0 = temp0\n",
    "        self._Pkw = Pwatts/1000\n",
    "        self._k = k\n",
    "        self._temp = [temp0]\n",
    "        self._heater_en = [False]\n",
    "        self._threshold = threshold\n",
    "        self._volume = volume\n",
    "        self._index = 0\n",
    "        self._tactv = freezing_threshold # Frezing, Activate Point\n",
    "    \n",
    "    def update(self,ambient,EN=True,k=None):\n",
    "        if k != None:\n",
    "            self._k = k\n",
    "        temp = self._temp[self._index]\n",
    "        # Determine Temperature Change from Both Heating and Cooling\n",
    "        newTemp = ambient + (temp-ambient)*np.exp(-self._k)\n",
    "        heatC = (temp-32)*5/9 + (60*self._Pkw)/(4.2*liters(self._volume))\n",
    "        heat = (heatC*9/5) + 32\n",
    "        # Convert Heating Effect back to Fahrenheit\n",
    "        dt_heat = heat-temp\n",
    "        # Determine whether Heater should be Applied\n",
    "        if temp >= self._threshold:\n",
    "            self._heater_en.append(False) # Don't Heat\n",
    "        elif EN and ((temp <= self._tactv) or self._heater_en[self._index-1]):\n",
    "            self._heater_en.append(True) # Apply Heater\n",
    "            newTemp += dt_heat\n",
    "        else:\n",
    "            self._heater_en.append(False) # Don't Heat\n",
    "        # Increment Index and Return New Temperature\n",
    "        self._index += 1\n",
    "        self._temp.append(newTemp)\n",
    "        return(newTemp)\n",
    "    \n",
    "    def min_maintain(self,temp_maint=None):\n",
    "        temp = self._tactv # Freezing Point\n",
    "        if temp_maint != None:\n",
    "            temp = temp_maint\n",
    "        for ambient in range(-10,32):\n",
    "            # Determine Temperature Change from Both Heating and Cooling\n",
    "            dcool = temp - (ambient + (temp-ambient)*np.exp(-self._k))\n",
    "            heatC = (temp-32)*5/9 + (60*self._Pkw)/(4.2*liters(self._volume))\n",
    "            heat = (heatC*9/5) + 32\n",
    "            dheat = heat-temp\n",
    "            if dheat >= dcool:\n",
    "                mintemp = ambient\n",
    "                return(mintemp)\n",
    "    \n",
    "    def time_to_recover(self,ambient,temp_recovr=None):\n",
    "        time = 0\n",
    "        temp = ambient\n",
    "        if temp_recovr == None:\n",
    "            temp_recovr = self._tactv\n",
    "        while temp < temp_recovr:\n",
    "            heatC = (temp-32)*5/9 + (60*self._Pkw)/(4.2*liters(self._volume))\n",
    "            heat = (heatC*9/5) + 32\n",
    "            dt_heat = heat-temp\n",
    "            temp = ambient + (temp-ambient)*np.exp(-self._k) + dt_heat\n",
    "            time += 1\n",
    "        return(time)\n",
    "    \n",
    "    def get_temp(self):\n",
    "        return(self._temp)\n",
    "    \n",
    "    def get_heater_state(self):\n",
    "        return(self._heater_en)\n",
    "    \n",
    "    def shrink_lists(self):\n",
    "        self._temp = self._temp[-2:]\n",
    "        self._heater_en = self._heater_en[-2:]"
   ]
  },
  {
   "cell_type": "code",
   "execution_count": 52,
   "metadata": {},
   "outputs": [
    {
     "data": {
      "image/png": "[encoded data removed]",
      "text/plain": [
       "<Figure size 432x288 with 1 Axes>"
      ]
     },
     "metadata": {
      "needs_background": "light"
     },
     "output_type": "display_data"
    },
    {
     "name": "stdout",
     "output_type": "stream",
     "text": [
      "kWh Consumed (unregulated): 12.0\n",
      "kWh Consumed (regulated): 12.0\n",
      "Improvement: 0.0 %\n",
      "Minimum Ambient Temperature: 10 °F\n",
      "Time To Recover from 15°F: 100 minutes\n"
     ]
    }
   ],
   "source": [
    "# Demonstrate Model in Simple System\n",
    "t0 = 10\n",
    "t_amb = 10\n",
    "\n",
    "model = troughmodel(t0,P,g,k,threshold=45)\n",
    "mod_1 = troughmodel(t0,P,g,k,threshold=35)\n",
    "\n",
    "# Process twenty-four hours\n",
    "minutes = 60*24\n",
    "for _ in range(minutes):\n",
    "    model.update(t_amb)\n",
    "    mod_1.update(t_amb)\n",
    "\n",
    "# Display Results\n",
    "plt.plot(model.get_temp(),label='water temp - unreg')\n",
    "plt.plot(mod_1.get_temp(),label='water temp - regul')\n",
    "plt.plot(model.get_heater_state(),label='heater state')\n",
    "plt.xlabel(\"Time (minutes)\")\n",
    "plt.ylabel(\"Temperature (°F)\")\n",
    "plt.legend()\n",
    "plt.show()\n",
    "\n",
    "rate = sum(model.get_heater_state())/60\n",
    "rate1 = sum(mod_1.get_heater_state())/60\n",
    "consump = (P/1000) * rate\n",
    "consump1 = (P/1000) * rate1\n",
    "print(\"kWh Consumed (unregulated):\",consump)\n",
    "print(\"kWh Consumed (regulated):\",consump1)\n",
    "print(\"Improvement:\",(consump-consump1)/consump*100,\"%\")\n",
    "print(\"Minimum Ambient Temperature:\",model.min_maintain(),\"°F\")\n",
    "print(\"Time To Recover from 15°F:\",model.time_to_recover(15),\"minutes\")"
   ]
  },
  {
   "cell_type": "code",
   "execution_count": null,
   "metadata": {},
   "outputs": [],
   "source": []
  },
  {
   "cell_type": "code",
   "execution_count": null,
   "metadata": {},
   "outputs": [],
   "source": []
  }
 ],
 "metadata": {
  "kernelspec": {
   "display_name": "Python 3",
   "language": "python",
   "name": "python3"
  },
  "language_info": {
   "codemirror_mode": {
    "name": "ipython",
    "version": 3
   },
   "file_extension": ".py",
   "mimetype": "text/x-python",
   "name": "python",
   "nbconvert_exporter": "python",
   "pygments_lexer": "ipython3",
   "version": "3.7.4"
  }
 },
 "nbformat": 4,
 "nbformat_minor": 2
}
